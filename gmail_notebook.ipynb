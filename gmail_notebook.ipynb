{
 "cells": [
  {
   "cell_type": "code",
   "execution_count": 20,
   "metadata": {},
   "outputs": [],
   "source": [
    "from gmail_reader import gmail_authenticate, fetch_all_emails, parse_email"
   ]
  },
  {
   "cell_type": "code",
   "execution_count": 10,
   "metadata": {},
   "outputs": [],
   "source": [
    "from google.oauth2 import service_account\n",
    "from googleapiclient.discovery import build\n",
    "import base64, email\n",
    "from email.utils import parseaddr\n",
    "from dotenv import load_dotenv\n",
    "import os"
   ]
  },
  {
   "cell_type": "code",
   "execution_count": 22,
   "metadata": {},
   "outputs": [],
   "source": [
    "service = gmail_authenticate()"
   ]
  },
  {
   "cell_type": "code",
   "execution_count": null,
   "metadata": {},
   "outputs": [],
   "source": [
    "def fetch_all_emails(service, user_id='me'):\n",
    "    \"\"\"\n",
    "    Fetch all email message IDs from the user's inbox, handling pagination.\n",
    "    Returns a list of message ID dictionaries.\n",
    "    \"\"\"\n",
    "    all_messages = []\n",
    "    try:\n",
    "        # Initial request for the first page of inbox messages (max 500 results)\n",
    "        response = service.users().messages().list(userId=user_id, labelIds=['INBOX'], maxResults=500).execute()\n",
    "        messages = response.get('messages', [])\n",
    "        if messages:\n",
    "            all_messages.extend(messages)\n",
    "        # Continue fetching while a next page token exists\n",
    "        while 'nextPageToken' in response:\n",
    "            page_token = response['nextPageToken']\n",
    "            response = service.users().messages().list(\n",
    "                userId=user_id, labelIds=['INBOX'], maxResults=500, pageToken=page_token\n",
    "            ).execute()\n",
    "            messages = response.get('messages', [])\n",
    "            if messages:\n",
    "                all_messages.extend(messages)\n",
    "        return all_messages\n",
    "    except Exception as e:\n",
    "        print(f\"An error occurred while fetching emails: {e}\")\n",
    "        return []"
   ]
  },
  {
   "cell_type": "code",
   "execution_count": 24,
   "metadata": {},
   "outputs": [
    {
     "ename": "RefreshError",
     "evalue": "('unauthorized_client: Client is unauthorized to retrieve access tokens using this method, or client not authorized for any of the scopes requested.', {'error': 'unauthorized_client', 'error_description': 'Client is unauthorized to retrieve access tokens using this method, or client not authorized for any of the scopes requested.'})",
     "output_type": "error",
     "traceback": [
      "\u001b[31m---------------------------------------------------------------------------\u001b[39m",
      "\u001b[31mRefreshError\u001b[39m                              Traceback (most recent call last)",
      "\u001b[36mCell\u001b[39m\u001b[36m \u001b[39m\u001b[32mIn[24]\u001b[39m\u001b[32m, line 1\u001b[39m\n\u001b[32m----> \u001b[39m\u001b[32m1\u001b[39m response = \u001b[43mservice\u001b[49m\u001b[43m.\u001b[49m\u001b[43musers\u001b[49m\u001b[43m(\u001b[49m\u001b[43m)\u001b[49m\u001b[43m.\u001b[49m\u001b[43mmessages\u001b[49m\u001b[43m(\u001b[49m\u001b[43m)\u001b[49m\u001b[43m.\u001b[49m\u001b[43mlist\u001b[49m\u001b[43m(\u001b[49m\u001b[43muserId\u001b[49m\u001b[43m=\u001b[49m\u001b[33;43m'\u001b[39;49m\u001b[33;43mme\u001b[39;49m\u001b[33;43m'\u001b[39;49m\u001b[43m,\u001b[49m\u001b[43m \u001b[49m\u001b[43mlabelIds\u001b[49m\u001b[43m=\u001b[49m\u001b[43m[\u001b[49m\u001b[33;43m'\u001b[39;49m\u001b[33;43mINBOX\u001b[39;49m\u001b[33;43m'\u001b[39;49m\u001b[43m]\u001b[49m\u001b[43m,\u001b[49m\u001b[43m \u001b[49m\u001b[43mmaxResults\u001b[49m\u001b[43m=\u001b[49m\u001b[32;43m500\u001b[39;49m\u001b[43m)\u001b[49m\u001b[43m.\u001b[49m\u001b[43mexecute\u001b[49m\u001b[43m(\u001b[49m\u001b[43m)\u001b[49m\n\u001b[32m      2\u001b[39m messages = response.get(\u001b[33m'\u001b[39m\u001b[33mmessages\u001b[39m\u001b[33m'\u001b[39m, [])\n",
      "\u001b[36mFile \u001b[39m\u001b[32m~/Documents/GitHub/NerdyNetworking/.venv/lib/python3.12/site-packages/googleapiclient/_helpers.py:130\u001b[39m, in \u001b[36mpositional.<locals>.positional_decorator.<locals>.positional_wrapper\u001b[39m\u001b[34m(*args, **kwargs)\u001b[39m\n\u001b[32m    128\u001b[39m     \u001b[38;5;28;01melif\u001b[39;00m positional_parameters_enforcement == POSITIONAL_WARNING:\n\u001b[32m    129\u001b[39m         logger.warning(message)\n\u001b[32m--> \u001b[39m\u001b[32m130\u001b[39m \u001b[38;5;28;01mreturn\u001b[39;00m \u001b[43mwrapped\u001b[49m\u001b[43m(\u001b[49m\u001b[43m*\u001b[49m\u001b[43margs\u001b[49m\u001b[43m,\u001b[49m\u001b[43m \u001b[49m\u001b[43m*\u001b[49m\u001b[43m*\u001b[49m\u001b[43mkwargs\u001b[49m\u001b[43m)\u001b[49m\n",
      "\u001b[36mFile \u001b[39m\u001b[32m~/Documents/GitHub/NerdyNetworking/.venv/lib/python3.12/site-packages/googleapiclient/http.py:923\u001b[39m, in \u001b[36mHttpRequest.execute\u001b[39m\u001b[34m(self, http, num_retries)\u001b[39m\n\u001b[32m    920\u001b[39m     \u001b[38;5;28mself\u001b[39m.headers[\u001b[33m\"\u001b[39m\u001b[33mcontent-length\u001b[39m\u001b[33m\"\u001b[39m] = \u001b[38;5;28mstr\u001b[39m(\u001b[38;5;28mlen\u001b[39m(\u001b[38;5;28mself\u001b[39m.body))\n\u001b[32m    922\u001b[39m \u001b[38;5;66;03m# Handle retries for server-side errors.\u001b[39;00m\n\u001b[32m--> \u001b[39m\u001b[32m923\u001b[39m resp, content = \u001b[43m_retry_request\u001b[49m\u001b[43m(\u001b[49m\n\u001b[32m    924\u001b[39m \u001b[43m    \u001b[49m\u001b[43mhttp\u001b[49m\u001b[43m,\u001b[49m\n\u001b[32m    925\u001b[39m \u001b[43m    \u001b[49m\u001b[43mnum_retries\u001b[49m\u001b[43m,\u001b[49m\n\u001b[32m    926\u001b[39m \u001b[43m    \u001b[49m\u001b[33;43m\"\u001b[39;49m\u001b[33;43mrequest\u001b[39;49m\u001b[33;43m\"\u001b[39;49m\u001b[43m,\u001b[49m\n\u001b[32m    927\u001b[39m \u001b[43m    \u001b[49m\u001b[38;5;28;43mself\u001b[39;49m\u001b[43m.\u001b[49m\u001b[43m_sleep\u001b[49m\u001b[43m,\u001b[49m\n\u001b[32m    928\u001b[39m \u001b[43m    \u001b[49m\u001b[38;5;28;43mself\u001b[39;49m\u001b[43m.\u001b[49m\u001b[43m_rand\u001b[49m\u001b[43m,\u001b[49m\n\u001b[32m    929\u001b[39m \u001b[43m    \u001b[49m\u001b[38;5;28;43mstr\u001b[39;49m\u001b[43m(\u001b[49m\u001b[38;5;28;43mself\u001b[39;49m\u001b[43m.\u001b[49m\u001b[43muri\u001b[49m\u001b[43m)\u001b[49m\u001b[43m,\u001b[49m\n\u001b[32m    930\u001b[39m \u001b[43m    \u001b[49m\u001b[43mmethod\u001b[49m\u001b[43m=\u001b[49m\u001b[38;5;28;43mstr\u001b[39;49m\u001b[43m(\u001b[49m\u001b[38;5;28;43mself\u001b[39;49m\u001b[43m.\u001b[49m\u001b[43mmethod\u001b[49m\u001b[43m)\u001b[49m\u001b[43m,\u001b[49m\n\u001b[32m    931\u001b[39m \u001b[43m    \u001b[49m\u001b[43mbody\u001b[49m\u001b[43m=\u001b[49m\u001b[38;5;28;43mself\u001b[39;49m\u001b[43m.\u001b[49m\u001b[43mbody\u001b[49m\u001b[43m,\u001b[49m\n\u001b[32m    932\u001b[39m \u001b[43m    \u001b[49m\u001b[43mheaders\u001b[49m\u001b[43m=\u001b[49m\u001b[38;5;28;43mself\u001b[39;49m\u001b[43m.\u001b[49m\u001b[43mheaders\u001b[49m\u001b[43m,\u001b[49m\n\u001b[32m    933\u001b[39m \u001b[43m\u001b[49m\u001b[43m)\u001b[49m\n\u001b[32m    935\u001b[39m \u001b[38;5;28;01mfor\u001b[39;00m callback \u001b[38;5;129;01min\u001b[39;00m \u001b[38;5;28mself\u001b[39m.response_callbacks:\n\u001b[32m    936\u001b[39m     callback(resp)\n",
      "\u001b[36mFile \u001b[39m\u001b[32m~/Documents/GitHub/NerdyNetworking/.venv/lib/python3.12/site-packages/googleapiclient/http.py:191\u001b[39m, in \u001b[36m_retry_request\u001b[39m\u001b[34m(http, num_retries, req_type, sleep, rand, uri, method, *args, **kwargs)\u001b[39m\n\u001b[32m    189\u001b[39m \u001b[38;5;28;01mtry\u001b[39;00m:\n\u001b[32m    190\u001b[39m     exception = \u001b[38;5;28;01mNone\u001b[39;00m\n\u001b[32m--> \u001b[39m\u001b[32m191\u001b[39m     resp, content = \u001b[43mhttp\u001b[49m\u001b[43m.\u001b[49m\u001b[43mrequest\u001b[49m\u001b[43m(\u001b[49m\u001b[43muri\u001b[49m\u001b[43m,\u001b[49m\u001b[43m \u001b[49m\u001b[43mmethod\u001b[49m\u001b[43m,\u001b[49m\u001b[43m \u001b[49m\u001b[43m*\u001b[49m\u001b[43margs\u001b[49m\u001b[43m,\u001b[49m\u001b[43m \u001b[49m\u001b[43m*\u001b[49m\u001b[43m*\u001b[49m\u001b[43mkwargs\u001b[49m\u001b[43m)\u001b[49m\n\u001b[32m    192\u001b[39m \u001b[38;5;66;03m# Retry on SSL errors and socket timeout errors.\u001b[39;00m\n\u001b[32m    193\u001b[39m \u001b[38;5;28;01mexcept\u001b[39;00m _ssl_SSLError \u001b[38;5;28;01mas\u001b[39;00m ssl_error:\n",
      "\u001b[36mFile \u001b[39m\u001b[32m~/Documents/GitHub/NerdyNetworking/.venv/lib/python3.12/site-packages/google_auth_httplib2.py:209\u001b[39m, in \u001b[36mAuthorizedHttp.request\u001b[39m\u001b[34m(self, uri, method, body, headers, redirections, connection_type, **kwargs)\u001b[39m\n\u001b[32m    205\u001b[39m \u001b[38;5;66;03m# Make a copy of the headers. They will be modified by the credentials\u001b[39;00m\n\u001b[32m    206\u001b[39m \u001b[38;5;66;03m# and we want to pass the original headers if we recurse.\u001b[39;00m\n\u001b[32m    207\u001b[39m request_headers = headers.copy() \u001b[38;5;28;01mif\u001b[39;00m headers \u001b[38;5;129;01mis\u001b[39;00m \u001b[38;5;129;01mnot\u001b[39;00m \u001b[38;5;28;01mNone\u001b[39;00m \u001b[38;5;28;01melse\u001b[39;00m {}\n\u001b[32m--> \u001b[39m\u001b[32m209\u001b[39m \u001b[38;5;28;43mself\u001b[39;49m\u001b[43m.\u001b[49m\u001b[43mcredentials\u001b[49m\u001b[43m.\u001b[49m\u001b[43mbefore_request\u001b[49m\u001b[43m(\u001b[49m\u001b[38;5;28;43mself\u001b[39;49m\u001b[43m.\u001b[49m\u001b[43m_request\u001b[49m\u001b[43m,\u001b[49m\u001b[43m \u001b[49m\u001b[43mmethod\u001b[49m\u001b[43m,\u001b[49m\u001b[43m \u001b[49m\u001b[43muri\u001b[49m\u001b[43m,\u001b[49m\u001b[43m \u001b[49m\u001b[43mrequest_headers\u001b[49m\u001b[43m)\u001b[49m\n\u001b[32m    211\u001b[39m \u001b[38;5;66;03m# Check if the body is a file-like stream, and if so, save the body\u001b[39;00m\n\u001b[32m    212\u001b[39m \u001b[38;5;66;03m# stream position so that it can be restored in case of refresh.\u001b[39;00m\n\u001b[32m    213\u001b[39m body_stream_position = \u001b[38;5;28;01mNone\u001b[39;00m\n",
      "\u001b[36mFile \u001b[39m\u001b[32m~/Documents/GitHub/NerdyNetworking/.venv/lib/python3.12/site-packages/google/auth/credentials.py:239\u001b[39m, in \u001b[36mCredentials.before_request\u001b[39m\u001b[34m(self, request, method, url, headers)\u001b[39m\n\u001b[32m    237\u001b[39m     \u001b[38;5;28mself\u001b[39m._non_blocking_refresh(request)\n\u001b[32m    238\u001b[39m \u001b[38;5;28;01melse\u001b[39;00m:\n\u001b[32m--> \u001b[39m\u001b[32m239\u001b[39m     \u001b[38;5;28;43mself\u001b[39;49m\u001b[43m.\u001b[49m\u001b[43m_blocking_refresh\u001b[49m\u001b[43m(\u001b[49m\u001b[43mrequest\u001b[49m\u001b[43m)\u001b[49m\n\u001b[32m    241\u001b[39m metrics.add_metric_header(headers, \u001b[38;5;28mself\u001b[39m._metric_header_for_usage())\n\u001b[32m    242\u001b[39m \u001b[38;5;28mself\u001b[39m.apply(headers)\n",
      "\u001b[36mFile \u001b[39m\u001b[32m~/Documents/GitHub/NerdyNetworking/.venv/lib/python3.12/site-packages/google/auth/credentials.py:202\u001b[39m, in \u001b[36mCredentials._blocking_refresh\u001b[39m\u001b[34m(self, request)\u001b[39m\n\u001b[32m    200\u001b[39m \u001b[38;5;28;01mdef\u001b[39;00m\u001b[38;5;250m \u001b[39m\u001b[34m_blocking_refresh\u001b[39m(\u001b[38;5;28mself\u001b[39m, request):\n\u001b[32m    201\u001b[39m     \u001b[38;5;28;01mif\u001b[39;00m \u001b[38;5;129;01mnot\u001b[39;00m \u001b[38;5;28mself\u001b[39m.valid:\n\u001b[32m--> \u001b[39m\u001b[32m202\u001b[39m         \u001b[38;5;28;43mself\u001b[39;49m\u001b[43m.\u001b[49m\u001b[43mrefresh\u001b[49m\u001b[43m(\u001b[49m\u001b[43mrequest\u001b[49m\u001b[43m)\u001b[49m\n",
      "\u001b[36mFile \u001b[39m\u001b[32m~/Documents/GitHub/NerdyNetworking/.venv/lib/python3.12/site-packages/google/oauth2/service_account.py:448\u001b[39m, in \u001b[36mCredentials.refresh\u001b[39m\u001b[34m(self, request)\u001b[39m\n\u001b[32m    446\u001b[39m \u001b[38;5;28;01melse\u001b[39;00m:\n\u001b[32m    447\u001b[39m     assertion = \u001b[38;5;28mself\u001b[39m._make_authorization_grant_assertion()\n\u001b[32m--> \u001b[39m\u001b[32m448\u001b[39m     access_token, expiry, _ = \u001b[43m_client\u001b[49m\u001b[43m.\u001b[49m\u001b[43mjwt_grant\u001b[49m\u001b[43m(\u001b[49m\n\u001b[32m    449\u001b[39m \u001b[43m        \u001b[49m\u001b[43mrequest\u001b[49m\u001b[43m,\u001b[49m\u001b[43m \u001b[49m\u001b[38;5;28;43mself\u001b[39;49m\u001b[43m.\u001b[49m\u001b[43m_token_uri\u001b[49m\u001b[43m,\u001b[49m\u001b[43m \u001b[49m\u001b[43massertion\u001b[49m\n\u001b[32m    450\u001b[39m \u001b[43m    \u001b[49m\u001b[43m)\u001b[49m\n\u001b[32m    451\u001b[39m     \u001b[38;5;28mself\u001b[39m.token = access_token\n\u001b[32m    452\u001b[39m     \u001b[38;5;28mself\u001b[39m.expiry = expiry\n",
      "\u001b[36mFile \u001b[39m\u001b[32m~/Documents/GitHub/NerdyNetworking/.venv/lib/python3.12/site-packages/google/oauth2/_client.py:299\u001b[39m, in \u001b[36mjwt_grant\u001b[39m\u001b[34m(request, token_uri, assertion, can_retry)\u001b[39m\n\u001b[32m    275\u001b[39m \u001b[38;5;250m\u001b[39m\u001b[33;03m\"\"\"Implements the JWT Profile for OAuth 2.0 Authorization Grants.\u001b[39;00m\n\u001b[32m    276\u001b[39m \n\u001b[32m    277\u001b[39m \u001b[33;03mFor more details, see `rfc7523 section 4`_.\u001b[39;00m\n\u001b[32m   (...)\u001b[39m\u001b[32m    295\u001b[39m \u001b[33;03m.. _rfc7523 section 4: https://tools.ietf.org/html/rfc7523#section-4\u001b[39;00m\n\u001b[32m    296\u001b[39m \u001b[33;03m\"\"\"\u001b[39;00m\n\u001b[32m    297\u001b[39m body = {\u001b[33m\"\u001b[39m\u001b[33massertion\u001b[39m\u001b[33m\"\u001b[39m: assertion, \u001b[33m\"\u001b[39m\u001b[33mgrant_type\u001b[39m\u001b[33m\"\u001b[39m: _JWT_GRANT_TYPE}\n\u001b[32m--> \u001b[39m\u001b[32m299\u001b[39m response_data = \u001b[43m_token_endpoint_request\u001b[49m\u001b[43m(\u001b[49m\n\u001b[32m    300\u001b[39m \u001b[43m    \u001b[49m\u001b[43mrequest\u001b[49m\u001b[43m,\u001b[49m\n\u001b[32m    301\u001b[39m \u001b[43m    \u001b[49m\u001b[43mtoken_uri\u001b[49m\u001b[43m,\u001b[49m\n\u001b[32m    302\u001b[39m \u001b[43m    \u001b[49m\u001b[43mbody\u001b[49m\u001b[43m,\u001b[49m\n\u001b[32m    303\u001b[39m \u001b[43m    \u001b[49m\u001b[43mcan_retry\u001b[49m\u001b[43m=\u001b[49m\u001b[43mcan_retry\u001b[49m\u001b[43m,\u001b[49m\n\u001b[32m    304\u001b[39m \u001b[43m    \u001b[49m\u001b[43mheaders\u001b[49m\u001b[43m=\u001b[49m\u001b[43m{\u001b[49m\n\u001b[32m    305\u001b[39m \u001b[43m        \u001b[49m\u001b[43mmetrics\u001b[49m\u001b[43m.\u001b[49m\u001b[43mAPI_CLIENT_HEADER\u001b[49m\u001b[43m:\u001b[49m\u001b[43m \u001b[49m\u001b[43mmetrics\u001b[49m\u001b[43m.\u001b[49m\u001b[43mtoken_request_access_token_sa_assertion\u001b[49m\u001b[43m(\u001b[49m\u001b[43m)\u001b[49m\n\u001b[32m    306\u001b[39m \u001b[43m    \u001b[49m\u001b[43m}\u001b[49m\u001b[43m,\u001b[49m\n\u001b[32m    307\u001b[39m \u001b[43m\u001b[49m\u001b[43m)\u001b[49m\n\u001b[32m    309\u001b[39m \u001b[38;5;28;01mtry\u001b[39;00m:\n\u001b[32m    310\u001b[39m     access_token = response_data[\u001b[33m\"\u001b[39m\u001b[33maccess_token\u001b[39m\u001b[33m\"\u001b[39m]\n",
      "\u001b[36mFile \u001b[39m\u001b[32m~/Documents/GitHub/NerdyNetworking/.venv/lib/python3.12/site-packages/google/oauth2/_client.py:270\u001b[39m, in \u001b[36m_token_endpoint_request\u001b[39m\u001b[34m(request, token_uri, body, access_token, use_json, can_retry, headers, **kwargs)\u001b[39m\n\u001b[32m    259\u001b[39m response_status_ok, response_data, retryable_error = _token_endpoint_request_no_throw(\n\u001b[32m    260\u001b[39m     request,\n\u001b[32m    261\u001b[39m     token_uri,\n\u001b[32m   (...)\u001b[39m\u001b[32m    267\u001b[39m     **kwargs\n\u001b[32m    268\u001b[39m )\n\u001b[32m    269\u001b[39m \u001b[38;5;28;01mif\u001b[39;00m \u001b[38;5;129;01mnot\u001b[39;00m response_status_ok:\n\u001b[32m--> \u001b[39m\u001b[32m270\u001b[39m     \u001b[43m_handle_error_response\u001b[49m\u001b[43m(\u001b[49m\u001b[43mresponse_data\u001b[49m\u001b[43m,\u001b[49m\u001b[43m \u001b[49m\u001b[43mretryable_error\u001b[49m\u001b[43m)\u001b[49m\n\u001b[32m    271\u001b[39m \u001b[38;5;28;01mreturn\u001b[39;00m response_data\n",
      "\u001b[36mFile \u001b[39m\u001b[32m~/Documents/GitHub/NerdyNetworking/.venv/lib/python3.12/site-packages/google/oauth2/_client.py:69\u001b[39m, in \u001b[36m_handle_error_response\u001b[39m\u001b[34m(response_data, retryable_error)\u001b[39m\n\u001b[32m     66\u001b[39m \u001b[38;5;28;01mexcept\u001b[39;00m (\u001b[38;5;167;01mKeyError\u001b[39;00m, \u001b[38;5;167;01mValueError\u001b[39;00m):\n\u001b[32m     67\u001b[39m     error_details = json.dumps(response_data)\n\u001b[32m---> \u001b[39m\u001b[32m69\u001b[39m \u001b[38;5;28;01mraise\u001b[39;00m exceptions.RefreshError(\n\u001b[32m     70\u001b[39m     error_details, response_data, retryable=retryable_error\n\u001b[32m     71\u001b[39m )\n",
      "\u001b[31mRefreshError\u001b[39m: ('unauthorized_client: Client is unauthorized to retrieve access tokens using this method, or client not authorized for any of the scopes requested.', {'error': 'unauthorized_client', 'error_description': 'Client is unauthorized to retrieve access tokens using this method, or client not authorized for any of the scopes requested.'})"
     ]
    }
   ],
   "source": [
    "response = service.users().messages().list(userId='me', labelIds=['INBOX'], maxResults=500).execute()\n",
    "messages = response.get('messages', [])"
   ]
  },
  {
   "cell_type": "code",
   "execution_count": 9,
   "metadata": {},
   "outputs": [
    {
     "name": "stdout",
     "output_type": "stream",
     "text": [
      "An error occurred while fetching emails: ('unauthorized_client: Client is unauthorized to retrieve access tokens using this method, or client not authorized for any of the scopes requested.', {'error': 'unauthorized_client', 'error_description': 'Client is unauthorized to retrieve access tokens using this method, or client not authorized for any of the scopes requested.'})\n"
     ]
    }
   ],
   "source": [
    "email_ids = fetch_all_emails(service, user_id='me')\n",
    "# print(f\"Total messages found: {len(email_ids)}\")"
   ]
  },
  {
   "cell_type": "code",
   "execution_count": null,
   "metadata": {},
   "outputs": [
    {
     "data": {
      "text/plain": [
       "<googleapiclient.discovery.Resource at 0x110659100>"
      ]
     },
     "execution_count": 4,
     "metadata": {},
     "output_type": "execute_result"
    }
   ],
   "source": [
    "service = gmail_authenticate()\n",
    "email_ids = fetch_all_emails(service, user_id='me')\n",
    "for msg in email_ids:\n",
    "    msg_id = msg['id']\n",
    "    details = parse_email(service, msg_id, user_id='me')\n",
    "    # Print the details for this email\n",
    "    print(f\"From: {details['sender_name']} <{details['sender_email']}>\")\n",
    "    print(f\"Date: {details['timestamp']}\")\n",
    "    print(f\"Subject: {details['subject']}\")\n",
    "    # Print a snippet of the bodies for brevity\n",
    "    text_snippet = details['text_body'][:100].strip().replace('\\n', ' ')\n",
    "    html_snippet = details['html_body'][:100].strip().replace('\\n', ' ')\n",
    "    print(f\"Body (text): {text_snippet + '...'}\")\n",
    "    if details['html_body']:\n",
    "        print(f\"Body (HTML): {html_snippet + '...'}\")\n",
    "    print(f\"Company: {details['company']}\")\n",
    "    print(f\"Job Position: {details['job_position']}\")\n",
    "    print(f\"Hiring Manager/Recruiter: {details['recruiter_name']}\")\n",
    "    print(\"-\" * 40)"
   ]
  },
  {
   "cell_type": "code",
   "execution_count": null,
   "metadata": {},
   "outputs": [],
   "source": []
  },
  {
   "cell_type": "code",
   "execution_count": 29,
   "metadata": {},
   "outputs": [
    {
     "ename": "IndentationError",
     "evalue": "expected an indented block after 'if' statement on line 21 (362849726.py, line 22)",
     "output_type": "error",
     "traceback": [
      "  \u001b[36mCell\u001b[39m\u001b[36m \u001b[39m\u001b[32mIn[29]\u001b[39m\u001b[32m, line 22\u001b[39m\n\u001b[31m    \u001b[39m\u001b[31mif creds and creds.expired and creds.refresh_token:\u001b[39m\n    ^\n\u001b[31mIndentationError\u001b[39m\u001b[31m:\u001b[39m expected an indented block after 'if' statement on line 21\n"
     ]
    }
   ],
   "source": [
    "import os.path\n",
    "\n",
    "from google.auth.transport.requests import Request\n",
    "from google.oauth2.credentials import Credentials\n",
    "from google_auth_oauthlib.flow import InstalledAppFlow\n",
    "from googleapiclient.discovery import build\n",
    "from googleapiclient.errors import HttpError\n",
    "\n",
    "# If modifying these scopes, delete the file token.json.\n",
    "SCOPES = [\"https://www.googleapis.com/auth/gmail.readonly\"]\n",
    "\n",
    "\n",
    "\n",
    "creds = None\n",
    "# The file token.json stores the user's access and refresh tokens, and is\n",
    "# created automatically when the authorization flow completes for the first\n",
    "# time.\n",
    "if os.path.exists(\"token.json\"):\n",
    "    creds = Credentials.from_authorized_user_file(\"token.json\", SCOPES)\n",
    "# If there are no (valid) credentials available, let the user log in.\n",
    "if not creds or not creds.valid:\n",
    "if creds and creds.expired and creds.refresh_token:\n",
    "    creds.refresh(Request())\n",
    "else:\n",
    "    flow = InstalledAppFlow.from_client_secrets_file(\n",
    "        \"credentials.json\", SCOPES\n",
    "    )\n",
    "    creds = flow.run_local_server(port=0)\n",
    "# Save the credentials for the next run\n",
    "with open(\"token.json\", \"w\") as token:\n",
    "    token.write(creds.to_json())\n",
    "\n",
    "# Call the Gmail API\n",
    "service = build(\"gmail\", \"v1\", credentials=creds)\n",
    "results = service.users().labels().list(userId=\"me\").execute()\n",
    "labels = results.get(\"labels\", [])\n",
    "\n",
    "if not labels:\n",
    "    print(\"No labels found.\")\n",
    "print(\"Labels:\")\n",
    "for label in labels:\n",
    "    print(label[\"name\"])\n"
   ]
  },
  {
   "cell_type": "code",
   "execution_count": null,
   "metadata": {},
   "outputs": [],
   "source": []
  },
  {
   "cell_type": "code",
   "execution_count": null,
   "metadata": {},
   "outputs": [],
   "source": []
  },
  {
   "cell_type": "code",
   "execution_count": 30,
   "metadata": {},
   "outputs": [
    {
     "ename": "FileNotFoundError",
     "evalue": "[Errno 2] No such file or directory: 'credentials.json'",
     "output_type": "error",
     "traceback": [
      "\u001b[31m---------------------------------------------------------------------------\u001b[39m",
      "\u001b[31mFileNotFoundError\u001b[39m                         Traceback (most recent call last)",
      "\u001b[36mCell\u001b[39m\u001b[36m \u001b[39m\u001b[32mIn[30]\u001b[39m\u001b[32m, line 32\u001b[39m\n\u001b[32m     30\u001b[39m   creds.refresh(Request())\n\u001b[32m     31\u001b[39m \u001b[38;5;28;01melse\u001b[39;00m:\n\u001b[32m---> \u001b[39m\u001b[32m32\u001b[39m   flow = \u001b[43mInstalledAppFlow\u001b[49m\u001b[43m.\u001b[49m\u001b[43mfrom_client_secrets_file\u001b[49m\u001b[43m(\u001b[49m\n\u001b[32m     33\u001b[39m \u001b[43m      \u001b[49m\u001b[33;43m\"\u001b[39;49m\u001b[33;43mcredentials.json\u001b[39;49m\u001b[33;43m\"\u001b[39;49m\u001b[43m,\u001b[49m\u001b[43m \u001b[49m\u001b[43mSCOPES\u001b[49m\n\u001b[32m     34\u001b[39m \u001b[43m  \u001b[49m\u001b[43m)\u001b[49m\n\u001b[32m     35\u001b[39m   creds = flow.run_local_server(port=\u001b[32m0\u001b[39m)\n\u001b[32m     36\u001b[39m \u001b[38;5;66;03m# Save the credentials for the next run\u001b[39;00m\n",
      "\u001b[36mFile \u001b[39m\u001b[32m~/Documents/GitHub/NerdyNetworking/.venv/lib/python3.12/site-packages/google_auth_oauthlib/flow.py:198\u001b[39m, in \u001b[36mFlow.from_client_secrets_file\u001b[39m\u001b[34m(cls, client_secrets_file, scopes, **kwargs)\u001b[39m\n\u001b[32m    183\u001b[39m \u001b[38;5;129m@classmethod\u001b[39m\n\u001b[32m    184\u001b[39m \u001b[38;5;28;01mdef\u001b[39;00m\u001b[38;5;250m \u001b[39m\u001b[34mfrom_client_secrets_file\u001b[39m(\u001b[38;5;28mcls\u001b[39m, client_secrets_file, scopes, **kwargs):\n\u001b[32m    185\u001b[39m \u001b[38;5;250m    \u001b[39m\u001b[33;03m\"\"\"Creates a :class:`Flow` instance from a Google client secrets file.\u001b[39;00m\n\u001b[32m    186\u001b[39m \n\u001b[32m    187\u001b[39m \u001b[33;03m    Args:\u001b[39;00m\n\u001b[32m   (...)\u001b[39m\u001b[32m    196\u001b[39m \u001b[33;03m        Flow: The constructed Flow instance.\u001b[39;00m\n\u001b[32m    197\u001b[39m \u001b[33;03m    \"\"\"\u001b[39;00m\n\u001b[32m--> \u001b[39m\u001b[32m198\u001b[39m     \u001b[38;5;28;01mwith\u001b[39;00m \u001b[38;5;28;43mopen\u001b[39;49m\u001b[43m(\u001b[49m\u001b[43mclient_secrets_file\u001b[49m\u001b[43m,\u001b[49m\u001b[43m \u001b[49m\u001b[33;43m\"\u001b[39;49m\u001b[33;43mr\u001b[39;49m\u001b[33;43m\"\u001b[39;49m\u001b[43m)\u001b[49m \u001b[38;5;28;01mas\u001b[39;00m json_file:\n\u001b[32m    199\u001b[39m         client_config = json.load(json_file)\n\u001b[32m    201\u001b[39m     \u001b[38;5;28;01mreturn\u001b[39;00m \u001b[38;5;28mcls\u001b[39m.from_client_config(client_config, scopes=scopes, **kwargs)\n",
      "\u001b[31mFileNotFoundError\u001b[39m: [Errno 2] No such file or directory: 'credentials.json'"
     ]
    }
   ],
   "source": [
    "import os.path\n",
    "from datetime import datetime\n",
    "import json\n",
    "import re\n",
    "import csv\n",
    "from google.auth.transport.requests import Request\n",
    "from google.oauth2.credentials import Credentials\n",
    "from google_auth_oauthlib.flow import InstalledAppFlow\n",
    "from googleapiclient.discovery import build\n",
    "from googleapiclient.errors import HttpError\n",
    "import pandas as pd\n",
    "import base64\n",
    "import json\n",
    "from bs4 import BeautifulSoup\n",
    "# from transformers import pipeline\n",
    "\n",
    "# If modifying these scopes, delete the file token.json.\n",
    "SCOPES = [\"https://www.googleapis.com/auth/gmail.readonly\"]\n",
    "\n",
    "creds = None\n",
    "# The file token.json stores the user's access and refresh tokens, and is\n",
    "# created automatically when the authorization flow completes for the first\n",
    "# time.\n",
    "if os.path.exists(\"token.json\"):\n",
    "  creds = Credentials.from_authorized_user_file(\"token.json\", SCOPES)\n",
    "  \n",
    "# If there are no (valid) credentials available, let the user log in.\n",
    "if not creds or not creds.valid:\n",
    "  if creds and creds.expired and creds.refresh_token:\n",
    "    creds.refresh(Request())\n",
    "  else:\n",
    "    flow = InstalledAppFlow.from_client_secrets_file(\n",
    "        \"credentials.json\", SCOPES\n",
    "    )\n",
    "    creds = flow.run_local_server(port=0)\n",
    "  # Save the credentials for the next run\n",
    "  with open(\"token.json\", \"w\") as token:\n",
    "    token.write(creds.to_json())\n",
    "\n",
    "# service = build(\"gmail\", \"v1\", credentials=creds)\n"
   ]
  },
  {
   "cell_type": "code",
   "execution_count": null,
   "metadata": {},
   "outputs": [],
   "source": [
    "\n",
    "def extract_plain_text(email_json):\n",
    "    \"\"\"\n",
    "    Extracts and returns only the plain text from a Gmail API email JSON response.\n",
    "    \n",
    "    Parameters:\n",
    "        email_json (dict): JSON response from the Gmail API.\n",
    "        \n",
    "    Returns:\n",
    "        str: Cleaned plain text content of the email.\n",
    "    \"\"\"\n",
    "    payload = email_json.get(\"payload\", {})\n",
    "\n",
    "    # Check if 'parts' exist (multipart email)\n",
    "    if \"parts\" in payload:\n",
    "        for part in payload[\"parts\"]:\n",
    "            mime_type = part.get(\"mimeType\", \"\")\n",
    "            body_data = part.get(\"body\", {}).get(\"data\", \"\")\n",
    "\n",
    "            if body_data:\n",
    "                decoded_data = base64.urlsafe_b64decode(body_data).decode(\"utf-8\")\n",
    "\n",
    "                if mime_type == \"text/plain\":\n",
    "                    return decoded_data.strip()  # Clean plain text\n",
    "                elif mime_type == \"text/html\":\n",
    "                    return clean_html(decoded_data)  # Convert HTML to plain text\n",
    "\n",
    "    # If no 'parts', check if 'body' contains the message\n",
    "    body_data = payload.get(\"body\", {}).get(\"data\", \"\")\n",
    "    if body_data:\n",
    "        decoded_data = base64.urlsafe_b64decode(body_data).decode(\"utf-8\")\n",
    "        return clean_html(decoded_data)  # Convert HTML to plain text if necessary\n",
    "\n",
    "    return \"\"  # Return empty string if no content is found\n",
    "\n",
    "def clean_html(html_content):\n",
    "    \"\"\"\n",
    "    Removes HTML tags and returns only the plain text content.\n",
    "    \n",
    "    Parameters:\n",
    "        html_content (str): HTML content as a string.\n",
    "    \n",
    "    Returns:\n",
    "        str: Cleaned plain text content.\n",
    "    \"\"\"\n",
    "    soup = BeautifulSoup(html_content, \"html.parser\")\n",
    "    text = ' '.join(soup.get_text(separator=' ').split())\n",
    "    return text.replace('\\n', ' ').strip()\n",
    "\n",
    "num_emails = 200\n",
    "# get messages\n",
    "results = service.users().messages().list(userId=\"me\", maxResults=num_emails).execute()\n",
    "# get list of message ids and thread ids\n",
    "messages = results.get(\"messages\", [])\n",
    "\n",
    "# Create empty lists to store data\n",
    "ids = []\n",
    "subjects = []\n",
    "senders = []\n",
    "sender_names = []\n",
    "sender_emails = []\n",
    "snippets = []\n",
    "bodies = []\n",
    "dates = []\n",
    "\n",
    "# get message data using id\n",
    "for msg in messages:\n",
    "    msg_id = msg[\"id\"]\n",
    "    msg_data = service.users().messages().get(userId=\"me\", id=msg_id).execute()\n",
    "    email_content = extract_plain_text(msg_data)\n",
    "    # Extract headers\n",
    "    headers = msg_data[\"payload\"][\"headers\"]\n",
    "    # Get info from headers\n",
    "    subject = next((h[\"value\"] for h in headers if h[\"name\"] == \"Subject\"), \"No Subject\")\n",
    "    sender = next((h[\"value\"] for h in headers if h[\"name\"] == \"From\"), \"Unknown Sender\")\n",
    "    date = next((h[\"value\"] for h in headers if h[\"name\"] == \"Date\"), \"No Date\")\n",
    "    \n",
    "    # Extract sender name and email if in <> format\n",
    "    if '<' in sender and '>' in sender:\n",
    "        sender_name = sender.split('<')[0].strip()\n",
    "        sender_email = sender[sender.find('<')+1:sender.find('>')]\n",
    "    else:\n",
    "        sender_name = \"\"\n",
    "        sender_email = sender\n",
    "\n",
    "    if sender_name.startswith('\"') and sender_name.endswith('\"'):\n",
    "        sender_name = sender_name[1:-1]\n",
    "\n",
    "    # Append data to lists\n",
    "    ids.append(msg_id)\n",
    "    subjects.append(subject)\n",
    "    senders.append(sender)\n",
    "    sender_names.append(sender_name)\n",
    "    sender_emails.append(sender_email)\n",
    "    snippets.append(msg_data.get('snippet', ''))\n",
    "    bodies.append(email_content)\n",
    "    # dates.append(msg_data.get('internalDate', ''))\n",
    "    dates.append(date)\n",
    "\n",
    "# Create DataFrame from lists\n",
    "emails_df = pd.DataFrame({\n",
    "    \"Sender Name\": sender_names,\n",
    "    \"Sender Email\": sender_emails,\n",
    "    'Subject': subjects, \n",
    "    'Body': bodies,\n",
    "    # 'Date': dates,\n",
    "    # 'ID': ids,\n",
    "    # 'Sender': senders,\n",
    "    # 'Snippet': snippets\n",
    "    })\n",
    "emails_df.to_csv(\"emails.csv\", index=False)"
   ]
  }
 ],
 "metadata": {
  "kernelspec": {
   "display_name": ".venv",
   "language": "python",
   "name": "python3"
  },
  "language_info": {
   "codemirror_mode": {
    "name": "ipython",
    "version": 3
   },
   "file_extension": ".py",
   "mimetype": "text/x-python",
   "name": "python",
   "nbconvert_exporter": "python",
   "pygments_lexer": "ipython3",
   "version": "3.12.1"
  }
 },
 "nbformat": 4,
 "nbformat_minor": 2
}
