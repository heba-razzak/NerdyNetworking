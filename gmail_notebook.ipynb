{
 "cells": [
  {
   "cell_type": "code",
   "execution_count": 1,
   "metadata": {},
   "outputs": [],
   "source": [
    "from gmail_reader import gmail_authenticate, fetch_all_emails, email_ids_to_df"
   ]
  },
  {
   "cell_type": "code",
   "execution_count": 2,
   "metadata": {},
   "outputs": [],
   "source": [
    "from google.oauth2 import service_account\n",
    "from googleapiclient.discovery import build\n",
    "import base64, email\n",
    "from email.utils import parseaddr\n",
    "from dotenv import load_dotenv\n",
    "import os\n",
    "import pandas as pd"
   ]
  },
  {
   "cell_type": "code",
   "execution_count": 3,
   "metadata": {},
   "outputs": [],
   "source": [
    "service = gmail_authenticate()"
   ]
  },
  {
   "cell_type": "code",
   "execution_count": 4,
   "metadata": {},
   "outputs": [],
   "source": [
    "email_ids = fetch_all_emails(service, user_id='me')\n",
    "# email_ids"
   ]
  },
  {
   "cell_type": "code",
   "execution_count": 5,
   "metadata": {},
   "outputs": [
    {
     "name": "stdout",
     "output_type": "stream",
     "text": [
      "Total messages found: 5858\n"
     ]
    }
   ],
   "source": [
    "print(f\"Total messages found: {len(email_ids)}\")"
   ]
  },
  {
   "cell_type": "code",
   "execution_count": 6,
   "metadata": {},
   "outputs": [],
   "source": [
    "num_emails = 10\n",
    "emails_df = email_ids_to_df(service, email_ids[:num_emails])\n",
    "# emails_df.to_csv(\"emails.csv\", index=False)"
   ]
  },
  {
   "cell_type": "code",
   "execution_count": 7,
   "metadata": {},
   "outputs": [
    {
     "data": {
      "text/html": [
       "<div>\n",
       "<style scoped>\n",
       "    .dataframe tbody tr th:only-of-type {\n",
       "        vertical-align: middle;\n",
       "    }\n",
       "\n",
       "    .dataframe tbody tr th {\n",
       "        vertical-align: top;\n",
       "    }\n",
       "\n",
       "    .dataframe thead th {\n",
       "        text-align: right;\n",
       "    }\n",
       "</style>\n",
       "<table border=\"1\" class=\"dataframe\">\n",
       "  <thead>\n",
       "    <tr style=\"text-align: right;\">\n",
       "      <th></th>\n",
       "      <th>Sender Name</th>\n",
       "      <th>Sender Email</th>\n",
       "      <th>Subject</th>\n",
       "      <th>Body</th>\n",
       "    </tr>\n",
       "  </thead>\n",
       "  <tbody>\n",
       "    <tr>\n",
       "      <th>0</th>\n",
       "      <td>LinkedIn Job Alerts</td>\n",
       "      <td>jobalerts-noreply@linkedin.com</td>\n",
       "      <td>“data analyst”: TechHuman - Sr. Data Analyst a...</td>\n",
       "      <td>Your job alert for data analyst in Tucson\\r\\n3...</td>\n",
       "    </tr>\n",
       "    <tr>\n",
       "      <th>1</th>\n",
       "      <td>Wellfound (formerly AngelList Talent)</td>\n",
       "      <td>team@hi.wellfound.com</td>\n",
       "      <td>Here are 4 new jobs you'd be a great fit for</td>\n",
       "      <td>Can't see this email? View in Your Browser \\n&lt;...</td>\n",
       "    </tr>\n",
       "    <tr>\n",
       "      <th>2</th>\n",
       "      <td>University of Arizona International Student Se...</td>\n",
       "      <td>notifications@ecwid.com</td>\n",
       "      <td>Order #RPHH9 Confirmation — University of Ariz...</td>\n",
       "      <td>Order #RPHH9 Confirmation — University of Ariz...</td>\n",
       "    </tr>\n",
       "    <tr>\n",
       "      <th>3</th>\n",
       "      <td>LinkedIn</td>\n",
       "      <td>messages-noreply@linkedin.com</td>\n",
       "      <td>Learning Spotlight: Smarter Work, Greener Future</td>\n",
       "      <td>Sustainability Skills That Drive Impact\\r\\n\\r\\...</td>\n",
       "    </tr>\n",
       "    <tr>\n",
       "      <th>4</th>\n",
       "      <td>SF Climate Week 2025</td>\n",
       "      <td>info@sfclimateweek.org</td>\n",
       "      <td>Welcome To SF Climate Week! | A message from o...</td>\n",
       "      <td>Hello,\\r\\n\\r\\nYou have received a newsletter f...</td>\n",
       "    </tr>\n",
       "    <tr>\n",
       "      <th>5</th>\n",
       "      <td>LinkedIn</td>\n",
       "      <td>groups-noreply@linkedin.com</td>\n",
       "      <td>Don’t miss conversations in Big Data, Analytic...</td>\n",
       "      <td>Don’t miss conversations in Big Data, Analytic...</td>\n",
       "    </tr>\n",
       "    <tr>\n",
       "      <th>6</th>\n",
       "      <td>CloudX</td>\n",
       "      <td>info@devnetworkinc.com</td>\n",
       "      <td>Nominations Are Open – The 2025 CloudX Awards🏆</td>\n",
       "      <td>https://www.developerweek.com/cloudx/?utm_sour...</td>\n",
       "    </tr>\n",
       "    <tr>\n",
       "      <th>7</th>\n",
       "      <td>Rockerbox Marketing</td>\n",
       "      <td>marketing@rockerbox.com</td>\n",
       "      <td>What Rockerbox Customers Are Doing to Navigate...</td>\n",
       "      <td>Insights from the Front Lines of Consumer Chan...</td>\n",
       "    </tr>\n",
       "    <tr>\n",
       "      <th>8</th>\n",
       "      <td>LinkedIn Job Alerts</td>\n",
       "      <td>jobalerts-noreply@linkedin.com</td>\n",
       "      <td>“data scientist”: Carta - Senior Data Scientis...</td>\n",
       "      <td>Your job alert for data scientist in San Franc...</td>\n",
       "    </tr>\n",
       "    <tr>\n",
       "      <th>9</th>\n",
       "      <td>Hive Global Media</td>\n",
       "      <td>bee@hive.ccsend.com</td>\n",
       "      <td>Celebrate Earth Day with Fashionverse</td>\n",
       "      <td>Email from Hive April 24th at Two Bit Circus! ...</td>\n",
       "    </tr>\n",
       "  </tbody>\n",
       "</table>\n",
       "</div>"
      ],
      "text/plain": [
       "                                         Sender Name  \\\n",
       "0                                LinkedIn Job Alerts   \n",
       "1              Wellfound (formerly AngelList Talent)   \n",
       "2  University of Arizona International Student Se...   \n",
       "3                                           LinkedIn   \n",
       "4                               SF Climate Week 2025   \n",
       "5                                           LinkedIn   \n",
       "6                                             CloudX   \n",
       "7                                Rockerbox Marketing   \n",
       "8                                LinkedIn Job Alerts   \n",
       "9                                  Hive Global Media   \n",
       "\n",
       "                     Sender Email  \\\n",
       "0  jobalerts-noreply@linkedin.com   \n",
       "1           team@hi.wellfound.com   \n",
       "2         notifications@ecwid.com   \n",
       "3   messages-noreply@linkedin.com   \n",
       "4          info@sfclimateweek.org   \n",
       "5     groups-noreply@linkedin.com   \n",
       "6          info@devnetworkinc.com   \n",
       "7         marketing@rockerbox.com   \n",
       "8  jobalerts-noreply@linkedin.com   \n",
       "9             bee@hive.ccsend.com   \n",
       "\n",
       "                                             Subject  \\\n",
       "0  “data analyst”: TechHuman - Sr. Data Analyst a...   \n",
       "1       Here are 4 new jobs you'd be a great fit for   \n",
       "2  Order #RPHH9 Confirmation — University of Ariz...   \n",
       "3   Learning Spotlight: Smarter Work, Greener Future   \n",
       "4  Welcome To SF Climate Week! | A message from o...   \n",
       "5  Don’t miss conversations in Big Data, Analytic...   \n",
       "6     Nominations Are Open – The 2025 CloudX Awards🏆   \n",
       "7  What Rockerbox Customers Are Doing to Navigate...   \n",
       "8  “data scientist”: Carta - Senior Data Scientis...   \n",
       "9              Celebrate Earth Day with Fashionverse   \n",
       "\n",
       "                                                Body  \n",
       "0  Your job alert for data analyst in Tucson\\r\\n3...  \n",
       "1  Can't see this email? View in Your Browser \\n<...  \n",
       "2  Order #RPHH9 Confirmation — University of Ariz...  \n",
       "3  Sustainability Skills That Drive Impact\\r\\n\\r\\...  \n",
       "4  Hello,\\r\\n\\r\\nYou have received a newsletter f...  \n",
       "5  Don’t miss conversations in Big Data, Analytic...  \n",
       "6  https://www.developerweek.com/cloudx/?utm_sour...  \n",
       "7  Insights from the Front Lines of Consumer Chan...  \n",
       "8  Your job alert for data scientist in San Franc...  \n",
       "9  Email from Hive April 24th at Two Bit Circus! ...  "
      ]
     },
     "execution_count": 7,
     "metadata": {},
     "output_type": "execute_result"
    }
   ],
   "source": [
    "emails_df"
   ]
  },
  {
   "cell_type": "code",
   "execution_count": null,
   "metadata": {},
   "outputs": [],
   "source": []
  }
 ],
 "metadata": {
  "kernelspec": {
   "display_name": ".venv",
   "language": "python",
   "name": "python3"
  },
  "language_info": {
   "codemirror_mode": {
    "name": "ipython",
    "version": 3
   },
   "file_extension": ".py",
   "mimetype": "text/x-python",
   "name": "python",
   "nbconvert_exporter": "python",
   "pygments_lexer": "ipython3",
   "version": "3.12.1"
  }
 },
 "nbformat": 4,
 "nbformat_minor": 2
}
