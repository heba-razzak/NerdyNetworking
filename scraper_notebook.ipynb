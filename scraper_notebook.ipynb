{
 "cells": [
  {
   "cell_type": "code",
   "execution_count": 1,
   "metadata": {},
   "outputs": [],
   "source": [
    "import os\n",
    "import pandas as pd\n",
    "from linkedin_scraper import extract_connections, extract_about, extract_experiences, scrape_profile, get_profile_links\n",
    "from linkedin_nav import login_linkedin, go_to_connections, new_tab_url, close_tab, new_tab_link, scroll_with_spacebar"
   ]
  },
  {
   "cell_type": "code",
   "execution_count": 2,
   "metadata": {},
   "outputs": [],
   "source": [
    "driver = login_linkedin()"
   ]
  },
  {
   "cell_type": "code",
   "execution_count": 3,
   "metadata": {},
   "outputs": [],
   "source": [
    "go_to_connections(driver)\n"
   ]
  },
  {
   "cell_type": "code",
   "execution_count": null,
   "metadata": {},
   "outputs": [],
   "source": [
    "scroll_with_spacebar(driver, n=100)"
   ]
  },
  {
   "cell_type": "code",
   "execution_count": 1,
   "metadata": {},
   "outputs": [
    {
     "ename": "NameError",
     "evalue": "name 'extract_connections' is not defined",
     "output_type": "error",
     "traceback": [
      "\u001b[31m---------------------------------------------------------------------------\u001b[39m",
      "\u001b[31mNameError\u001b[39m                                 Traceback (most recent call last)",
      "\u001b[36mCell\u001b[39m\u001b[36m \u001b[39m\u001b[32mIn[1]\u001b[39m\u001b[32m, line 1\u001b[39m\n\u001b[32m----> \u001b[39m\u001b[32m1\u001b[39m connections_df = \u001b[43mextract_connections\u001b[49m(driver)\n",
      "\u001b[31mNameError\u001b[39m: name 'extract_connections' is not defined"
     ]
    }
   ],
   "source": [
    "connections_df = extract_connections(driver)"
   ]
  },
  {
   "cell_type": "code",
   "execution_count": 46,
   "metadata": {},
   "outputs": [],
   "source": [
    "# Split Name\n",
    "connections_df[\"First Name\"] = connections_df[\"Name\"].str.split().str[0]\n",
    "connections_df[\"Name Flag\"] = connections_df[\"First Name\"].str.contains(r\"[^a-zA-Z]\", regex=True).map({True: \"!!!\", False: \"\"})\n",
    "# connections_df.rename(columns={'Title': 'Header'}, inplace=True)\n",
    "connections_df = connections_df[[\"First Name\", \"Header\", \"Connected At\", \"URL\", \"Name\", \"Name Flag\"]]"
   ]
  },
  {
   "cell_type": "code",
   "execution_count": 47,
   "metadata": {},
   "outputs": [],
   "source": [
    "connections_df.to_csv(\"data/connections.csv\", index=False, encoding=\"utf-8-sig\")"
   ]
  },
  {
   "cell_type": "code",
   "execution_count": 55,
   "metadata": {},
   "outputs": [],
   "source": [
    "connections_df = pd.read_csv(\"data/connections.csv\")\n",
    "experiences_df = pd.read_csv(\"data/experiences.csv\")\n",
    "profiles_df = pd.read_csv(\"data/profiles.csv\")\n",
    "people_df = connections_df.merge(profiles_df, on=\"URL\", how=\"left\")\n",
    "people_df = people_df[[\"First Name\", \"Title\", \"Company\", \"Duration\", \"Connected At\", \"Header\", \"About\", \"URL\", \"Name\", \"Name Flag\"]]\n",
    "people_df.to_csv(\"data/people.csv\", index=False, encoding=\"utf-8-sig\")"
   ]
  },
  {
   "cell_type": "code",
   "execution_count": null,
   "metadata": {},
   "outputs": [],
   "source": [
    "# Get list of URLs we've already scraped (to avoid duplicates)\n",
    "# Load existing CSV files\n",
    "if os.path.exists(\"data/profiles.csv\"):\n",
    "    profiles_df = pd.read_csv(\"data/profiles.csv\")\n",
    "    existing_urls = set(profiles_df[\"URL\"].tolist())\n",
    "else:\n",
    "    # profiles_df = pd.DataFrame()\n",
    "    existing_urls = []\n",
    "if os.path.exists(\"data/experiences.csv\"):\n",
    "    experiences_df = pd.read_csv(\"data/experiences.csv\")\n",
    "else:\n",
    "    experiences_df = pd.DataFrame()\n",
    "\n",
    "profile_links, profile_urls = get_profile_links(driver)\n",
    "\n",
    "# if url in existing_urls remove that link\n",
    "new_profile_links = []\n",
    "\n",
    "# Only keep what's not already in existing_urls\n",
    "for link, url in zip(profile_links, profile_urls):\n",
    "    if url not in existing_urls:\n",
    "        new_profile_links.append(link)"
   ]
  },
  {
   "cell_type": "code",
   "execution_count": 52,
   "metadata": {},
   "outputs": [],
   "source": [
    "max_profiles = 50\n",
    "# Scrape only the new profile links\n",
    "profiles_data = []\n",
    "experiences_data = []\n",
    "\n",
    "for i, link in enumerate(new_profile_links[:max_profiles]):\n",
    "    try:        \n",
    "        new_tab_link(driver, link)\n",
    "        # Scrape profile\n",
    "        profile_info = scrape_profile(driver)\n",
    "        experiences = extract_experiences(driver)\n",
    "        # Add to data lists\n",
    "        profiles_data.append(profile_info)\n",
    "        experiences_data.extend(experiences)\n",
    "        \n",
    "        # Close tab and return to main window\n",
    "        close_tab(driver)\n",
    "        \n",
    "    except Exception as e:\n",
    "        print(f\"Error processing profile {i+1}: {e}\")\n",
    "        # Try to recover\n",
    "        if len(driver.window_handles) > 1:\n",
    "            driver.close()\n",
    "            driver.switch_to.window(driver.window_handles[0])\n",
    "\n",
    "# Update profiles\n",
    "profiles_df = pd.concat([profiles_df, pd.DataFrame(profiles_data)], ignore_index=True)\n",
    "profiles_df.drop_duplicates(subset=[\"URL\"], keep=\"last\", inplace=True)\n",
    "profiles_df.to_csv(\"data/profiles.csv\", index=False, encoding=\"utf-8-sig\")\n",
    "\n",
    "# Update experiences\n",
    "experiences_df = pd.concat([experiences_df, pd.DataFrame(experiences_data)], ignore_index=True)\n",
    "experiences_df.drop_duplicates(subset=[\"URL\", \"Company\", \"Title\"], keep=\"last\", inplace=True)\n",
    "experiences_df.to_csv(\"data/experiences.csv\", index=False, encoding=\"utf-8-sig\")"
   ]
  },
  {
   "cell_type": "markdown",
   "metadata": {},
   "source": [
    "View results"
   ]
  },
  {
   "cell_type": "code",
   "execution_count": 8,
   "metadata": {},
   "outputs": [],
   "source": [
    "# Find problem profiles\n",
    "# problem_profiles = profiles_df[pd.isna(profiles_df[\"Company\"])]\n",
    "# problem_profiles"
   ]
  },
  {
   "cell_type": "code",
   "execution_count": null,
   "metadata": {},
   "outputs": [],
   "source": [
    "profiles_df"
   ]
  },
  {
   "cell_type": "markdown",
   "metadata": {},
   "source": [
    "Scrape 1 profile URL"
   ]
  },
  {
   "cell_type": "code",
   "execution_count": null,
   "metadata": {},
   "outputs": [],
   "source": [
    "new_tab_url(driver, \"https://www.linkedin.com/in/khokharwaqas/\")"
   ]
  },
  {
   "cell_type": "code",
   "execution_count": null,
   "metadata": {},
   "outputs": [],
   "source": [
    "extract_experiences(driver, first_only=True)\n"
   ]
  },
  {
   "cell_type": "code",
   "execution_count": null,
   "metadata": {},
   "outputs": [],
   "source": [
    "extract_about(driver)\n"
   ]
  },
  {
   "cell_type": "code",
   "execution_count": null,
   "metadata": {},
   "outputs": [],
   "source": [
    "close_tab(driver)"
   ]
  },
  {
   "cell_type": "code",
   "execution_count": null,
   "metadata": {},
   "outputs": [],
   "source": [
    "# import pandas as pd\n",
    "# pd.set_option(\"display.max_rows\", None)\n",
    "# pd.reset_option(\"display.max_rows\")"
   ]
  }
 ],
 "metadata": {
  "kernelspec": {
   "display_name": ".venv",
   "language": "python",
   "name": "python3"
  },
  "language_info": {
   "codemirror_mode": {
    "name": "ipython",
    "version": 3
   },
   "file_extension": ".py",
   "mimetype": "text/x-python",
   "name": "python",
   "nbconvert_exporter": "python",
   "pygments_lexer": "ipython3",
   "version": "3.12.1"
  }
 },
 "nbformat": 4,
 "nbformat_minor": 2
}
